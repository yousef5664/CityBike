{
 "cells": [
  {
   "cell_type": "markdown",
   "metadata": {},
   "source": [
    "# CitiBike "
   ]
  },
  {
   "cell_type": "code",
   "execution_count": 2,
   "metadata": {},
   "outputs": [],
   "source": [
    "import pandas as pd\n",
    "import numpy as np\n",
    "import matplotlib.pyplot as plt\n",
    "import seaborn as sns\n",
    "import glob"
   ]
  },
  {
   "cell_type": "code",
   "execution_count": null,
   "metadata": {},
   "outputs": [],
   "source": [
    "files = glob.glob('data/*.csv')\n",
    "df = pd.DataFrame()\n",
    "columns = ['tripduration', 'starttime', 'start station id', 'end station id',\n",
    "           'bikeid', 'usertype', 'birth year', 'gender']\n",
    "for file in files:\n",
    "    df_tmp = pd.read_csv(file, usecols=columns , nrows=1e4)\n",
    "    df = pd.concat([df, df_tmp])"
   ]
  },
  {
   "cell_type": "code",
   "execution_count": 18,
   "metadata": {},
   "outputs": [
    {
     "data": {
      "text/plain": [
       "Index(['tripduration', 'starttime', 'start station id', 'end station id',\n",
       "       'bikeid', 'usertype', 'birth year', 'gender'],\n",
       "      dtype='object')"
      ]
     },
     "execution_count": 18,
     "metadata": {},
     "output_type": "execute_result"
    }
   ],
   "source": [
    "df.columns"
   ]
  },
  {
   "cell_type": "markdown",
   "metadata": {},
   "source": [
    "files = glob.glob('data/*.csv')\n",
    "df = pd.DataFrame()\n",
    "columns = ['tripduration', 'starttime', 'start station id', 'end station id',\n",
    "           'bikeid', 'usertype', 'birth year', 'gender']\n",
    "for file in files:\n",
    "    df_tmp = pd.read_csv(file, usecols=columns , nrows=1e4)\n",
    "    df = pd.concat([df, df_tmp])"
   ]
  },
  {
   "cell_type": "code",
   "execution_count": 4,
   "metadata": {},
   "outputs": [
    {
     "data": {
      "text/html": [
       "<div>\n",
       "<style scoped>\n",
       "    .dataframe tbody tr th:only-of-type {\n",
       "        vertical-align: middle;\n",
       "    }\n",
       "\n",
       "    .dataframe tbody tr th {\n",
       "        vertical-align: top;\n",
       "    }\n",
       "\n",
       "    .dataframe thead th {\n",
       "        text-align: right;\n",
       "    }\n",
       "</style>\n",
       "<table border=\"1\" class=\"dataframe\">\n",
       "  <thead>\n",
       "    <tr style=\"text-align: right;\">\n",
       "      <th></th>\n",
       "      <th>tripduration</th>\n",
       "      <th>starttime</th>\n",
       "      <th>start station id</th>\n",
       "      <th>end station id</th>\n",
       "      <th>bikeid</th>\n",
       "      <th>usertype</th>\n",
       "      <th>birth year</th>\n",
       "      <th>gender</th>\n",
       "    </tr>\n",
       "  </thead>\n",
       "  <tbody>\n",
       "    <tr>\n",
       "      <th>0</th>\n",
       "      <td>840</td>\n",
       "      <td>2018-04-01 03:07:39.0700</td>\n",
       "      <td>72.0</td>\n",
       "      <td>379.0</td>\n",
       "      <td>31977</td>\n",
       "      <td>Subscriber</td>\n",
       "      <td>1973</td>\n",
       "      <td>1</td>\n",
       "    </tr>\n",
       "    <tr>\n",
       "      <th>1</th>\n",
       "      <td>1438</td>\n",
       "      <td>2018-04-01 07:20:02.2150</td>\n",
       "      <td>72.0</td>\n",
       "      <td>426.0</td>\n",
       "      <td>21403</td>\n",
       "      <td>Subscriber</td>\n",
       "      <td>1956</td>\n",
       "      <td>1</td>\n",
       "    </tr>\n",
       "    <tr>\n",
       "      <th>2</th>\n",
       "      <td>219</td>\n",
       "      <td>2018-04-01 08:11:14.4060</td>\n",
       "      <td>72.0</td>\n",
       "      <td>447.0</td>\n",
       "      <td>29081</td>\n",
       "      <td>Subscriber</td>\n",
       "      <td>1974</td>\n",
       "      <td>1</td>\n",
       "    </tr>\n",
       "    <tr>\n",
       "      <th>3</th>\n",
       "      <td>410</td>\n",
       "      <td>2018-04-01 08:52:32.3730</td>\n",
       "      <td>72.0</td>\n",
       "      <td>173.0</td>\n",
       "      <td>32130</td>\n",
       "      <td>Subscriber</td>\n",
       "      <td>1983</td>\n",
       "      <td>1</td>\n",
       "    </tr>\n",
       "    <tr>\n",
       "      <th>4</th>\n",
       "      <td>485</td>\n",
       "      <td>2018-04-01 09:37:34.3270</td>\n",
       "      <td>72.0</td>\n",
       "      <td>3159.0</td>\n",
       "      <td>30055</td>\n",
       "      <td>Subscriber</td>\n",
       "      <td>1978</td>\n",
       "      <td>1</td>\n",
       "    </tr>\n",
       "  </tbody>\n",
       "</table>\n",
       "</div>"
      ],
      "text/plain": [
       "   tripduration                 starttime  start station id  end station id  \\\n",
       "0           840  2018-04-01 03:07:39.0700              72.0           379.0   \n",
       "1          1438  2018-04-01 07:20:02.2150              72.0           426.0   \n",
       "2           219  2018-04-01 08:11:14.4060              72.0           447.0   \n",
       "3           410  2018-04-01 08:52:32.3730              72.0           173.0   \n",
       "4           485  2018-04-01 09:37:34.3270              72.0          3159.0   \n",
       "\n",
       "   bikeid    usertype  birth year  gender  \n",
       "0   31977  Subscriber        1973       1  \n",
       "1   21403  Subscriber        1956       1  \n",
       "2   29081  Subscriber        1974       1  \n",
       "3   32130  Subscriber        1983       1  \n",
       "4   30055  Subscriber        1978       1  "
      ]
     },
     "execution_count": 4,
     "metadata": {},
     "output_type": "execute_result"
    }
   ],
   "source": [
    "df.head()"
   ]
  },
  {
   "cell_type": "code",
   "execution_count": 5,
   "metadata": {},
   "outputs": [
    {
     "data": {
      "text/html": [
       "<div>\n",
       "<style scoped>\n",
       "    .dataframe tbody tr th:only-of-type {\n",
       "        vertical-align: middle;\n",
       "    }\n",
       "\n",
       "    .dataframe tbody tr th {\n",
       "        vertical-align: top;\n",
       "    }\n",
       "\n",
       "    .dataframe thead th {\n",
       "        text-align: right;\n",
       "    }\n",
       "</style>\n",
       "<table border=\"1\" class=\"dataframe\">\n",
       "  <thead>\n",
       "    <tr style=\"text-align: right;\">\n",
       "      <th></th>\n",
       "      <th>tripduration</th>\n",
       "      <th>start station id</th>\n",
       "      <th>end station id</th>\n",
       "      <th>bikeid</th>\n",
       "      <th>birth year</th>\n",
       "      <th>gender</th>\n",
       "    </tr>\n",
       "  </thead>\n",
       "  <tbody>\n",
       "    <tr>\n",
       "      <th>count</th>\n",
       "      <td>1.200000e+05</td>\n",
       "      <td>119987.000000</td>\n",
       "      <td>119987.000000</td>\n",
       "      <td>120000.000000</td>\n",
       "      <td>120000.000000</td>\n",
       "      <td>120000.000000</td>\n",
       "    </tr>\n",
       "    <tr>\n",
       "      <th>mean</th>\n",
       "      <td>9.668182e+02</td>\n",
       "      <td>774.090685</td>\n",
       "      <td>1381.133881</td>\n",
       "      <td>26631.007108</td>\n",
       "      <td>1978.311542</td>\n",
       "      <td>1.165875</td>\n",
       "    </tr>\n",
       "    <tr>\n",
       "      <th>std</th>\n",
       "      <td>2.080159e+04</td>\n",
       "      <td>1242.836916</td>\n",
       "      <td>1401.008053</td>\n",
       "      <td>6191.597512</td>\n",
       "      <td>12.156792</td>\n",
       "      <td>0.522044</td>\n",
       "    </tr>\n",
       "    <tr>\n",
       "      <th>min</th>\n",
       "      <td>6.100000e+01</td>\n",
       "      <td>72.000000</td>\n",
       "      <td>72.000000</td>\n",
       "      <td>14529.000000</td>\n",
       "      <td>1885.000000</td>\n",
       "      <td>0.000000</td>\n",
       "    </tr>\n",
       "    <tr>\n",
       "      <th>25%</th>\n",
       "      <td>3.580000e+02</td>\n",
       "      <td>79.000000</td>\n",
       "      <td>345.000000</td>\n",
       "      <td>20373.000000</td>\n",
       "      <td>1969.000000</td>\n",
       "      <td>1.000000</td>\n",
       "    </tr>\n",
       "    <tr>\n",
       "      <th>50%</th>\n",
       "      <td>5.980000e+02</td>\n",
       "      <td>127.000000</td>\n",
       "      <td>477.000000</td>\n",
       "      <td>28456.000000</td>\n",
       "      <td>1981.000000</td>\n",
       "      <td>1.000000</td>\n",
       "    </tr>\n",
       "    <tr>\n",
       "      <th>75%</th>\n",
       "      <td>1.027000e+03</td>\n",
       "      <td>480.000000</td>\n",
       "      <td>3175.000000</td>\n",
       "      <td>31898.000000</td>\n",
       "      <td>1988.000000</td>\n",
       "      <td>1.000000</td>\n",
       "    </tr>\n",
       "    <tr>\n",
       "      <th>max</th>\n",
       "      <td>5.891578e+06</td>\n",
       "      <td>3715.000000</td>\n",
       "      <td>3715.000000</td>\n",
       "      <td>35688.000000</td>\n",
       "      <td>2002.000000</td>\n",
       "      <td>2.000000</td>\n",
       "    </tr>\n",
       "  </tbody>\n",
       "</table>\n",
       "</div>"
      ],
      "text/plain": [
       "       tripduration  start station id  end station id         bikeid  \\\n",
       "count  1.200000e+05     119987.000000   119987.000000  120000.000000   \n",
       "mean   9.668182e+02        774.090685     1381.133881   26631.007108   \n",
       "std    2.080159e+04       1242.836916     1401.008053    6191.597512   \n",
       "min    6.100000e+01         72.000000       72.000000   14529.000000   \n",
       "25%    3.580000e+02         79.000000      345.000000   20373.000000   \n",
       "50%    5.980000e+02        127.000000      477.000000   28456.000000   \n",
       "75%    1.027000e+03        480.000000     3175.000000   31898.000000   \n",
       "max    5.891578e+06       3715.000000     3715.000000   35688.000000   \n",
       "\n",
       "          birth year         gender  \n",
       "count  120000.000000  120000.000000  \n",
       "mean     1978.311542       1.165875  \n",
       "std        12.156792       0.522044  \n",
       "min      1885.000000       0.000000  \n",
       "25%      1969.000000       1.000000  \n",
       "50%      1981.000000       1.000000  \n",
       "75%      1988.000000       1.000000  \n",
       "max      2002.000000       2.000000  "
      ]
     },
     "execution_count": 5,
     "metadata": {},
     "output_type": "execute_result"
    }
   ],
   "source": [
    "df.describe()"
   ]
  },
  {
   "cell_type": "code",
   "execution_count": 6,
   "metadata": {},
   "outputs": [
    {
     "data": {
      "text/plain": [
       "(120000, 8)"
      ]
     },
     "execution_count": 6,
     "metadata": {},
     "output_type": "execute_result"
    }
   ],
   "source": [
    "df.shape"
   ]
  },
  {
   "cell_type": "markdown",
   "metadata": {},
   "source": [
    "## Raised Questions\n",
    "* In order to predict future number of trips, What factors effect ?\n",
    "* Does the trip duration has any correlation with other variables ?\n",
    "* Does "
   ]
  },
  {
   "cell_type": "code",
   "execution_count": 7,
   "metadata": {},
   "outputs": [],
   "source": [
    "df.starttime = pd.to_datetime(df.starttime)"
   ]
  },
  {
   "cell_type": "markdown",
   "metadata": {},
   "source": [
    "## Univariate Exploration"
   ]
  },
  {
   "cell_type": "code",
   "execution_count": 8,
   "metadata": {},
   "outputs": [],
   "source": [
    "base_color = sns.color_palette()[0]"
   ]
  },
  {
   "cell_type": "code",
   "execution_count": 9,
   "metadata": {},
   "outputs": [
    {
     "data": {
      "text/plain": [
       "(0, 5000)"
      ]
     },
     "execution_count": 9,
     "metadata": {},
     "output_type": "execute_result"
    },
    {
     "data": {
      "image/png": "[encoded data removed]",
      "text/plain": [
       "<Figure size 720x648 with 1 Axes>"
      ]
     },
     "metadata": {
      "needs_background": "light"
     },
     "output_type": "display_data"
    }
   ],
   "source": [
    "plt.figure(figsize=(10,9))\n",
    "bins = np.arange(0, 5000, 50)\n",
    "sns.distplot(df.tripduration, bins=bins, color=base_color);\n",
    "plt.xlim(0,5000)"
   ]
  },
  {
   "cell_type": "code",
   "execution_count": 10,
   "metadata": {},
   "outputs": [
    {
     "data": {
      "image/png": "[encoded data removed]",
      "text/plain": [
       "<Figure size 432x288 with 1 Axes>"
      ]
     },
     "metadata": {
      "needs_background": "light"
     },
     "output_type": "display_data"
    }
   ],
   "source": [
    "sns.countplot(df.starttime.dt.month, color=base_color);"
   ]
  },
  {
   "cell_type": "code",
   "execution_count": 11,
   "metadata": {},
   "outputs": [
    {
     "data": {
      "image/png": "[encoded data removed]",
      "text/plain": [
       "<Figure size 1008x864 with 2 Axes>"
      ]
     },
     "metadata": {
      "needs_background": "light"
     },
     "output_type": "display_data"
    }
   ],
   "source": [
    "fig, ax = plt.subplots(nrows=2, ncols=1, figsize=(14,12))\n",
    "\n",
    "sns.countplot(df.starttime.dt.month_name(), color=base_color, ax=ax[0]);\n",
    "plt.title('month')\n",
    "\n",
    "sns.countplot(df.starttime.dt.day_name(), color=base_color, ax=ax[1]);\n",
    "plt.title('Week days')\n",
    "\n",
    "plt.show()"
   ]
  },
  {
   "cell_type": "code",
   "execution_count": 15,
   "metadata": {},
   "outputs": [
    {
     "data": {
      "image/png": "[encoded data removed]",
      "text/plain": [
       "<Figure size 432x288 with 1 Axes>"
      ]
     },
     "metadata": {},
     "output_type": "display_data"
    }
   ],
   "source": [
    "label = ['unknown', 'Male', 'Female']\n",
    "gender_grouped = df.groupby('gender').size()\n",
    "plt.pie(gender_grouped ,labels=label);"
   ]
  },
  {
   "cell_type": "code",
   "execution_count": 16,
   "metadata": {},
   "outputs": [
    {
     "data": {
      "image/png": "[encoded data removed]",
      "text/plain": [
       "<Figure size 432x288 with 1 Axes>"
      ]
     },
     "metadata": {},
     "output_type": "display_data"
    }
   ],
   "source": [
    "gender_grouped = df.groupby('usertype').size()\n",
    "plt.pie(gender_grouped, labels=gender_grouped.index);"
   ]
  },
  {
   "cell_type": "code",
   "execution_count": 12,
   "metadata": {},
   "outputs": [
    {
     "data": {
      "text/plain": [
       "(1940, 2007)"
      ]
     },
     "execution_count": 12,
     "metadata": {},
     "output_type": "execute_result"
    },
    {
     "data": {
      "image/png": "[encoded data removed]",
      "text/plain": [
       "<Figure size 720x576 with 1 Axes>"
      ]
     },
     "metadata": {
      "needs_background": "light"
     },
     "output_type": "display_data"
    }
   ],
   "source": [
    "plt.figure(figsize=(10,8))\n",
    "base_color = sns.color_palette()[0]\n",
    "max_birth = df['birth year'].max()\n",
    "bins = np.arange(1940, max_birth + 1, 1)\n",
    "labels=np.arange(1940, max_birth + 5, 5)\n",
    "sns.distplot(df['birth year'],bins=bins,kde=False, color=base_color);\n",
    "plt.xticks(labels);\n",
    "plt.xlim(1940, max_birth + 5)"
   ]
  },
  {
   "cell_type": "markdown",
   "metadata": {},
   "source": [
    "The shape is sekead to left, with one big spike in year 1969.\n",
    "After futhur investigaion, I found many customers sigend with 1969 birth year. This might be cuased by someone filled Null values with this specfic year.<br>\n",
    "This quality issue must be solved to pr********"
   ]
  },
  {
   "cell_type": "code",
   "execution_count": 28,
   "metadata": {},
   "outputs": [
    {
     "data": {
      "text/plain": [
       "1374508.0"
      ]
     },
     "execution_count": 28,
     "metadata": {},
     "output_type": "execute_result"
    }
   ],
   "source": [
    "year_1970 = (df['birth year'] == 1970).sum().compute()\n",
    "year_1968 = (df['birth year'] == 1968).sum().compute()\n",
    "avg = (year_1968 + year_1970) / 2\n",
    "\n",
    "year_1969 = (df['birth year'] == 1969).sum().compute()\n",
    "year_1969 - avg"
   ]
  },
  {
   "cell_type": "code",
   "execution_count": 67,
   "metadata": {},
   "outputs": [
    {
     "data": {
      "text/plain": [
       "(1940, 2007)"
      ]
     },
     "execution_count": 67,
     "metadata": {},
     "output_type": "execute_result"
    },
    {
     "data": {
      "image/png": "[encoded data removed]",
      "text/plain": [
       "<Figure size 720x576 with 1 Axes>"
      ]
     },
     "metadata": {
      "needs_background": "light"
     },
     "output_type": "display_data"
    }
   ],
   "source": [
    "plt.figure(figsize=(10,8))\n",
    "base_color = sns.color_palette()[0]\n",
    "max_birth = df['birth year'].max().compute()\n",
    "bins = np.arange(1940, max_birth + 1, 1)\n",
    "labels=np.arange(1940, max_birth + 5, 5)\n",
    "sns.distplot(df[df.usertype == 'Subscriber']['birth year'].compute(),bins=bins,kde=False, color=base_color);\n",
    "plt.xticks(labels);\n",
    "plt.xlim(1940, max_birth + 5)"
   ]
  },
  {
   "cell_type": "markdown",
   "metadata": {},
   "source": [
    "## Bivirate exploration"
   ]
  },
  {
   "cell_type": "code",
   "execution_count": 31,
   "metadata": {},
   "outputs": [
    {
     "data": {
      "image/png": "[encoded data removed]",
      "text/plain": [
       "<Figure size 864x1440 with 3 Axes>"
      ]
     },
     "metadata": {
      "needs_background": "light"
     },
     "output_type": "display_data"
    }
   ],
   "source": [
    "fig, ax = plt.subplots(nrows=3, figsize=(12,20))\n",
    "\n",
    "plt.title('month')\n",
    "sns.boxplot(df.starttime.dt.month, df.tripduration, showfliers=False, color=base_color, ax=ax[0])\n",
    "\n",
    "plt.title('week day')\n",
    "sns.boxplot(df.starttime.dt.day_name(), df.tripduration, showfliers=False, color=base_color, ax=ax[1])\n",
    "\n",
    "plt.title('hour')\n",
    "sns.boxplot(df.starttime.dt.hour, df.tripduration, showfliers=False, color=base_color, ax=ax[2])\n",
    "\n",
    "plt.show()"
   ]
  },
  {
   "cell_type": "code",
   "execution_count": 18,
   "metadata": {},
   "outputs": [
    {
     "name": "stderr",
     "output_type": "stream",
     "text": [
      "/home/srap/anaconda3/lib/python3.7/site-packages/seaborn/axisgrid.py:715: UserWarning: Using the boxplot function without specifying `order` is likely to produce an incorrect plot.\n",
      "  warnings.warn(warning)\n"
     ]
    },
    {
     "data": {
      "image/png": "[encoded data removed]",
      "text/plain": [
       "<Figure size 432x216 with 2 Axes>"
      ]
     },
     "metadata": {
      "needs_background": "light"
     },
     "output_type": "display_data"
    }
   ],
   "source": [
    "g = sns.FacetGrid(col='usertype', data=df)\n",
    "g.map(sns.boxplot, 'gender', 'tripduration', data=df, color=base_color, showfliers=False);"
   ]
  },
  {
   "cell_type": "markdown",
   "metadata": {},
   "source": [
    "g = sns.FacetGrid(col='usertype', row='gender', data=df)\n",
    "g.map(sns.barplot, x='birth year', y='tripduration', data=df)"
   ]
  },
  {
   "cell_type": "code",
   "execution_count": 21,
   "metadata": {},
   "outputs": [
    {
     "data": {
      "text/html": [
       "<div>\n",
       "<style scoped>\n",
       "    .dataframe tbody tr th:only-of-type {\n",
       "        vertical-align: middle;\n",
       "    }\n",
       "\n",
       "    .dataframe tbody tr th {\n",
       "        vertical-align: top;\n",
       "    }\n",
       "\n",
       "    .dataframe thead th {\n",
       "        text-align: right;\n",
       "    }\n",
       "</style>\n",
       "<table border=\"1\" class=\"dataframe\">\n",
       "  <thead>\n",
       "    <tr style=\"text-align: right;\">\n",
       "      <th></th>\n",
       "      <th>start station id</th>\n",
       "      <th>end station id</th>\n",
       "      <th>gender</th>\n",
       "      <th>tripduration</th>\n",
       "    </tr>\n",
       "  </thead>\n",
       "  <tbody>\n",
       "    <tr>\n",
       "      <th>0</th>\n",
       "      <td>72.0</td>\n",
       "      <td>72.0</td>\n",
       "      <td>0</td>\n",
       "      <td>1927.314286</td>\n",
       "    </tr>\n",
       "    <tr>\n",
       "      <th>1</th>\n",
       "      <td>72.0</td>\n",
       "      <td>72.0</td>\n",
       "      <td>1</td>\n",
       "      <td>1080.270175</td>\n",
       "    </tr>\n",
       "    <tr>\n",
       "      <th>2</th>\n",
       "      <td>72.0</td>\n",
       "      <td>72.0</td>\n",
       "      <td>2</td>\n",
       "      <td>1742.209302</td>\n",
       "    </tr>\n",
       "    <tr>\n",
       "      <th>3</th>\n",
       "      <td>72.0</td>\n",
       "      <td>79.0</td>\n",
       "      <td>0</td>\n",
       "      <td>1892.000000</td>\n",
       "    </tr>\n",
       "    <tr>\n",
       "      <th>4</th>\n",
       "      <td>72.0</td>\n",
       "      <td>79.0</td>\n",
       "      <td>1</td>\n",
       "      <td>1674.720000</td>\n",
       "    </tr>\n",
       "    <tr>\n",
       "      <th>5</th>\n",
       "      <td>72.0</td>\n",
       "      <td>79.0</td>\n",
       "      <td>2</td>\n",
       "      <td>1929.000000</td>\n",
       "    </tr>\n",
       "    <tr>\n",
       "      <th>6</th>\n",
       "      <td>72.0</td>\n",
       "      <td>127.0</td>\n",
       "      <td>0</td>\n",
       "      <td>1543.000000</td>\n",
       "    </tr>\n",
       "    <tr>\n",
       "      <th>7</th>\n",
       "      <td>72.0</td>\n",
       "      <td>127.0</td>\n",
       "      <td>1</td>\n",
       "      <td>1246.736842</td>\n",
       "    </tr>\n",
       "    <tr>\n",
       "      <th>8</th>\n",
       "      <td>72.0</td>\n",
       "      <td>127.0</td>\n",
       "      <td>2</td>\n",
       "      <td>1533.045455</td>\n",
       "    </tr>\n",
       "    <tr>\n",
       "      <th>9</th>\n",
       "      <td>72.0</td>\n",
       "      <td>128.0</td>\n",
       "      <td>0</td>\n",
       "      <td>1695.000000</td>\n",
       "    </tr>\n",
       "    <tr>\n",
       "      <th>10</th>\n",
       "      <td>72.0</td>\n",
       "      <td>128.0</td>\n",
       "      <td>1</td>\n",
       "      <td>1480.680000</td>\n",
       "    </tr>\n",
       "    <tr>\n",
       "      <th>11</th>\n",
       "      <td>72.0</td>\n",
       "      <td>128.0</td>\n",
       "      <td>2</td>\n",
       "      <td>1820.000000</td>\n",
       "    </tr>\n",
       "    <tr>\n",
       "      <th>12</th>\n",
       "      <td>72.0</td>\n",
       "      <td>146.0</td>\n",
       "      <td>0</td>\n",
       "      <td>1928.500000</td>\n",
       "    </tr>\n",
       "    <tr>\n",
       "      <th>13</th>\n",
       "      <td>72.0</td>\n",
       "      <td>146.0</td>\n",
       "      <td>1</td>\n",
       "      <td>2255.500000</td>\n",
       "    </tr>\n",
       "    <tr>\n",
       "      <th>14</th>\n",
       "      <td>72.0</td>\n",
       "      <td>146.0</td>\n",
       "      <td>2</td>\n",
       "      <td>2809.571429</td>\n",
       "    </tr>\n",
       "    <tr>\n",
       "      <th>15</th>\n",
       "      <td>72.0</td>\n",
       "      <td>150.0</td>\n",
       "      <td>1</td>\n",
       "      <td>1778.375000</td>\n",
       "    </tr>\n",
       "    <tr>\n",
       "      <th>16</th>\n",
       "      <td>72.0</td>\n",
       "      <td>151.0</td>\n",
       "      <td>0</td>\n",
       "      <td>2207.500000</td>\n",
       "    </tr>\n",
       "    <tr>\n",
       "      <th>17</th>\n",
       "      <td>72.0</td>\n",
       "      <td>151.0</td>\n",
       "      <td>1</td>\n",
       "      <td>1675.210526</td>\n",
       "    </tr>\n",
       "    <tr>\n",
       "      <th>18</th>\n",
       "      <td>72.0</td>\n",
       "      <td>151.0</td>\n",
       "      <td>2</td>\n",
       "      <td>1970.000000</td>\n",
       "    </tr>\n",
       "    <tr>\n",
       "      <th>19</th>\n",
       "      <td>72.0</td>\n",
       "      <td>152.0</td>\n",
       "      <td>0</td>\n",
       "      <td>1990.000000</td>\n",
       "    </tr>\n",
       "    <tr>\n",
       "      <th>20</th>\n",
       "      <td>72.0</td>\n",
       "      <td>152.0</td>\n",
       "      <td>1</td>\n",
       "      <td>1884.000000</td>\n",
       "    </tr>\n",
       "    <tr>\n",
       "      <th>21</th>\n",
       "      <td>72.0</td>\n",
       "      <td>152.0</td>\n",
       "      <td>2</td>\n",
       "      <td>1772.000000</td>\n",
       "    </tr>\n",
       "    <tr>\n",
       "      <th>22</th>\n",
       "      <td>72.0</td>\n",
       "      <td>161.0</td>\n",
       "      <td>1</td>\n",
       "      <td>1442.636364</td>\n",
       "    </tr>\n",
       "    <tr>\n",
       "      <th>23</th>\n",
       "      <td>72.0</td>\n",
       "      <td>161.0</td>\n",
       "      <td>2</td>\n",
       "      <td>1534.545455</td>\n",
       "    </tr>\n",
       "    <tr>\n",
       "      <th>24</th>\n",
       "      <td>72.0</td>\n",
       "      <td>164.0</td>\n",
       "      <td>0</td>\n",
       "      <td>1899.666667</td>\n",
       "    </tr>\n",
       "    <tr>\n",
       "      <th>25</th>\n",
       "      <td>72.0</td>\n",
       "      <td>164.0</td>\n",
       "      <td>1</td>\n",
       "      <td>956.647059</td>\n",
       "    </tr>\n",
       "    <tr>\n",
       "      <th>26</th>\n",
       "      <td>72.0</td>\n",
       "      <td>164.0</td>\n",
       "      <td>2</td>\n",
       "      <td>1583.000000</td>\n",
       "    </tr>\n",
       "    <tr>\n",
       "      <th>27</th>\n",
       "      <td>72.0</td>\n",
       "      <td>167.0</td>\n",
       "      <td>0</td>\n",
       "      <td>1286.000000</td>\n",
       "    </tr>\n",
       "    <tr>\n",
       "      <th>28</th>\n",
       "      <td>72.0</td>\n",
       "      <td>167.0</td>\n",
       "      <td>1</td>\n",
       "      <td>1040.333333</td>\n",
       "    </tr>\n",
       "    <tr>\n",
       "      <th>29</th>\n",
       "      <td>72.0</td>\n",
       "      <td>167.0</td>\n",
       "      <td>2</td>\n",
       "      <td>1229.500000</td>\n",
       "    </tr>\n",
       "    <tr>\n",
       "      <th>...</th>\n",
       "      <td>...</td>\n",
       "      <td>...</td>\n",
       "      <td>...</td>\n",
       "      <td>...</td>\n",
       "    </tr>\n",
       "    <tr>\n",
       "      <th>39489</th>\n",
       "      <td>3712.0</td>\n",
       "      <td>501.0</td>\n",
       "      <td>2</td>\n",
       "      <td>805.000000</td>\n",
       "    </tr>\n",
       "    <tr>\n",
       "      <th>39490</th>\n",
       "      <td>3712.0</td>\n",
       "      <td>515.0</td>\n",
       "      <td>1</td>\n",
       "      <td>228.000000</td>\n",
       "    </tr>\n",
       "    <tr>\n",
       "      <th>39491</th>\n",
       "      <td>3712.0</td>\n",
       "      <td>515.0</td>\n",
       "      <td>2</td>\n",
       "      <td>241.000000</td>\n",
       "    </tr>\n",
       "    <tr>\n",
       "      <th>39492</th>\n",
       "      <td>3712.0</td>\n",
       "      <td>519.0</td>\n",
       "      <td>1</td>\n",
       "      <td>717.000000</td>\n",
       "    </tr>\n",
       "    <tr>\n",
       "      <th>39493</th>\n",
       "      <td>3712.0</td>\n",
       "      <td>520.0</td>\n",
       "      <td>1</td>\n",
       "      <td>633.000000</td>\n",
       "    </tr>\n",
       "    <tr>\n",
       "      <th>39494</th>\n",
       "      <td>3712.0</td>\n",
       "      <td>3158.0</td>\n",
       "      <td>1</td>\n",
       "      <td>927.000000</td>\n",
       "    </tr>\n",
       "    <tr>\n",
       "      <th>39495</th>\n",
       "      <td>3712.0</td>\n",
       "      <td>3244.0</td>\n",
       "      <td>2</td>\n",
       "      <td>914.000000</td>\n",
       "    </tr>\n",
       "    <tr>\n",
       "      <th>39496</th>\n",
       "      <td>3712.0</td>\n",
       "      <td>3255.0</td>\n",
       "      <td>1</td>\n",
       "      <td>224.000000</td>\n",
       "    </tr>\n",
       "    <tr>\n",
       "      <th>39497</th>\n",
       "      <td>3712.0</td>\n",
       "      <td>3660.0</td>\n",
       "      <td>1</td>\n",
       "      <td>371.000000</td>\n",
       "    </tr>\n",
       "    <tr>\n",
       "      <th>39498</th>\n",
       "      <td>3714.0</td>\n",
       "      <td>259.0</td>\n",
       "      <td>1</td>\n",
       "      <td>1634.500000</td>\n",
       "    </tr>\n",
       "    <tr>\n",
       "      <th>39499</th>\n",
       "      <td>3714.0</td>\n",
       "      <td>376.0</td>\n",
       "      <td>1</td>\n",
       "      <td>1235.000000</td>\n",
       "    </tr>\n",
       "    <tr>\n",
       "      <th>39500</th>\n",
       "      <td>3714.0</td>\n",
       "      <td>389.0</td>\n",
       "      <td>1</td>\n",
       "      <td>273.000000</td>\n",
       "    </tr>\n",
       "    <tr>\n",
       "      <th>39501</th>\n",
       "      <td>3714.0</td>\n",
       "      <td>442.0</td>\n",
       "      <td>1</td>\n",
       "      <td>1951.000000</td>\n",
       "    </tr>\n",
       "    <tr>\n",
       "      <th>39502</th>\n",
       "      <td>3714.0</td>\n",
       "      <td>3087.0</td>\n",
       "      <td>1</td>\n",
       "      <td>334.000000</td>\n",
       "    </tr>\n",
       "    <tr>\n",
       "      <th>39503</th>\n",
       "      <td>3714.0</td>\n",
       "      <td>3478.0</td>\n",
       "      <td>1</td>\n",
       "      <td>1990.000000</td>\n",
       "    </tr>\n",
       "    <tr>\n",
       "      <th>39504</th>\n",
       "      <td>3715.0</td>\n",
       "      <td>297.0</td>\n",
       "      <td>2</td>\n",
       "      <td>1799.000000</td>\n",
       "    </tr>\n",
       "    <tr>\n",
       "      <th>39505</th>\n",
       "      <td>3715.0</td>\n",
       "      <td>373.0</td>\n",
       "      <td>1</td>\n",
       "      <td>680.000000</td>\n",
       "    </tr>\n",
       "    <tr>\n",
       "      <th>39506</th>\n",
       "      <td>3715.0</td>\n",
       "      <td>394.0</td>\n",
       "      <td>1</td>\n",
       "      <td>1302.000000</td>\n",
       "    </tr>\n",
       "    <tr>\n",
       "      <th>39507</th>\n",
       "      <td>3715.0</td>\n",
       "      <td>539.0</td>\n",
       "      <td>1</td>\n",
       "      <td>231.000000</td>\n",
       "    </tr>\n",
       "    <tr>\n",
       "      <th>39508</th>\n",
       "      <td>3715.0</td>\n",
       "      <td>3016.0</td>\n",
       "      <td>2</td>\n",
       "      <td>274.000000</td>\n",
       "    </tr>\n",
       "    <tr>\n",
       "      <th>39509</th>\n",
       "      <td>3715.0</td>\n",
       "      <td>3072.0</td>\n",
       "      <td>1</td>\n",
       "      <td>675.000000</td>\n",
       "    </tr>\n",
       "    <tr>\n",
       "      <th>39510</th>\n",
       "      <td>3715.0</td>\n",
       "      <td>3085.0</td>\n",
       "      <td>1</td>\n",
       "      <td>199.000000</td>\n",
       "    </tr>\n",
       "    <tr>\n",
       "      <th>39511</th>\n",
       "      <td>3715.0</td>\n",
       "      <td>3085.0</td>\n",
       "      <td>2</td>\n",
       "      <td>185.000000</td>\n",
       "    </tr>\n",
       "    <tr>\n",
       "      <th>39512</th>\n",
       "      <td>3715.0</td>\n",
       "      <td>3096.0</td>\n",
       "      <td>1</td>\n",
       "      <td>88.000000</td>\n",
       "    </tr>\n",
       "    <tr>\n",
       "      <th>39513</th>\n",
       "      <td>3715.0</td>\n",
       "      <td>3102.0</td>\n",
       "      <td>1</td>\n",
       "      <td>145.000000</td>\n",
       "    </tr>\n",
       "    <tr>\n",
       "      <th>39514</th>\n",
       "      <td>3715.0</td>\n",
       "      <td>3110.0</td>\n",
       "      <td>1</td>\n",
       "      <td>235.000000</td>\n",
       "    </tr>\n",
       "    <tr>\n",
       "      <th>39515</th>\n",
       "      <td>3715.0</td>\n",
       "      <td>3116.0</td>\n",
       "      <td>1</td>\n",
       "      <td>552.000000</td>\n",
       "    </tr>\n",
       "    <tr>\n",
       "      <th>39516</th>\n",
       "      <td>3715.0</td>\n",
       "      <td>3452.0</td>\n",
       "      <td>2</td>\n",
       "      <td>211.000000</td>\n",
       "    </tr>\n",
       "    <tr>\n",
       "      <th>39517</th>\n",
       "      <td>3715.0</td>\n",
       "      <td>3456.0</td>\n",
       "      <td>2</td>\n",
       "      <td>340.000000</td>\n",
       "    </tr>\n",
       "    <tr>\n",
       "      <th>39518</th>\n",
       "      <td>3715.0</td>\n",
       "      <td>3615.0</td>\n",
       "      <td>1</td>\n",
       "      <td>1062.000000</td>\n",
       "    </tr>\n",
       "  </tbody>\n",
       "</table>\n",
       "<p>39519 rows × 4 columns</p>\n",
       "</div>"
      ],
      "text/plain": [
       "       start station id  end station id  gender  tripduration\n",
       "0                  72.0            72.0       0   1927.314286\n",
       "1                  72.0            72.0       1   1080.270175\n",
       "2                  72.0            72.0       2   1742.209302\n",
       "3                  72.0            79.0       0   1892.000000\n",
       "4                  72.0            79.0       1   1674.720000\n",
       "5                  72.0            79.0       2   1929.000000\n",
       "6                  72.0           127.0       0   1543.000000\n",
       "7                  72.0           127.0       1   1246.736842\n",
       "8                  72.0           127.0       2   1533.045455\n",
       "9                  72.0           128.0       0   1695.000000\n",
       "10                 72.0           128.0       1   1480.680000\n",
       "11                 72.0           128.0       2   1820.000000\n",
       "12                 72.0           146.0       0   1928.500000\n",
       "13                 72.0           146.0       1   2255.500000\n",
       "14                 72.0           146.0       2   2809.571429\n",
       "15                 72.0           150.0       1   1778.375000\n",
       "16                 72.0           151.0       0   2207.500000\n",
       "17                 72.0           151.0       1   1675.210526\n",
       "18                 72.0           151.0       2   1970.000000\n",
       "19                 72.0           152.0       0   1990.000000\n",
       "20                 72.0           152.0       1   1884.000000\n",
       "21                 72.0           152.0       2   1772.000000\n",
       "22                 72.0           161.0       1   1442.636364\n",
       "23                 72.0           161.0       2   1534.545455\n",
       "24                 72.0           164.0       0   1899.666667\n",
       "25                 72.0           164.0       1    956.647059\n",
       "26                 72.0           164.0       2   1583.000000\n",
       "27                 72.0           167.0       0   1286.000000\n",
       "28                 72.0           167.0       1   1040.333333\n",
       "29                 72.0           167.0       2   1229.500000\n",
       "...                 ...             ...     ...           ...\n",
       "39489            3712.0           501.0       2    805.000000\n",
       "39490            3712.0           515.0       1    228.000000\n",
       "39491            3712.0           515.0       2    241.000000\n",
       "39492            3712.0           519.0       1    717.000000\n",
       "39493            3712.0           520.0       1    633.000000\n",
       "39494            3712.0          3158.0       1    927.000000\n",
       "39495            3712.0          3244.0       2    914.000000\n",
       "39496            3712.0          3255.0       1    224.000000\n",
       "39497            3712.0          3660.0       1    371.000000\n",
       "39498            3714.0           259.0       1   1634.500000\n",
       "39499            3714.0           376.0       1   1235.000000\n",
       "39500            3714.0           389.0       1    273.000000\n",
       "39501            3714.0           442.0       1   1951.000000\n",
       "39502            3714.0          3087.0       1    334.000000\n",
       "39503            3714.0          3478.0       1   1990.000000\n",
       "39504            3715.0           297.0       2   1799.000000\n",
       "39505            3715.0           373.0       1    680.000000\n",
       "39506            3715.0           394.0       1   1302.000000\n",
       "39507            3715.0           539.0       1    231.000000\n",
       "39508            3715.0          3016.0       2    274.000000\n",
       "39509            3715.0          3072.0       1    675.000000\n",
       "39510            3715.0          3085.0       1    199.000000\n",
       "39511            3715.0          3085.0       2    185.000000\n",
       "39512            3715.0          3096.0       1     88.000000\n",
       "39513            3715.0          3102.0       1    145.000000\n",
       "39514            3715.0          3110.0       1    235.000000\n",
       "39515            3715.0          3116.0       1    552.000000\n",
       "39516            3715.0          3452.0       2    211.000000\n",
       "39517            3715.0          3456.0       2    340.000000\n",
       "39518            3715.0          3615.0       1   1062.000000\n",
       "\n",
       "[39519 rows x 4 columns]"
      ]
     },
     "execution_count": 21,
     "metadata": {},
     "output_type": "execute_result"
    }
   ],
   "source": [
    "gender_df = df.groupby(['start station id','end station id','gender']). tripduration.mean().reset_index()\n",
    "gender_df"
   ]
  },
  {
   "cell_type": "code",
   "execution_count": 26,
   "metadata": {},
   "outputs": [
    {
     "data": {
      "text/plain": [
       "<matplotlib.axes._subplots.AxesSubplot at 0x7ff472fc1d30>"
      ]
     },
     "execution_count": 26,
     "metadata": {},
     "output_type": "execute_result"
    },
    {
     "data": {
      "image/png": "[encoded data removed]",
      "text/plain": [
       "<Figure size 432x288 with 1 Axes>"
      ]
     },
     "metadata": {
      "needs_background": "light"
     },
     "output_type": "display_data"
    }
   ],
   "source": [
    "gender_df.groupby('gender').tripduration.mean().plot('bar')"
   ]
  },
  {
   "cell_type": "code",
   "execution_count": null,
   "metadata": {},
   "outputs": [],
   "source": []
  }
 ],
 "metadata": {
  "kernelspec": {
   "display_name": "Python 3",
   "language": "python",
   "name": "python3"
  },
  "language_info": {
   "codemirror_mode": {
    "name": "ipython",
    "version": 3
   },
   "file_extension": ".py",
   "mimetype": "text/x-python",
   "name": "python",
   "nbconvert_exporter": "python",
   "pygments_lexer": "ipython3",
   "version": "3.7.3"
  }
 },
 "nbformat": 4,
 "nbformat_minor": 2
}
